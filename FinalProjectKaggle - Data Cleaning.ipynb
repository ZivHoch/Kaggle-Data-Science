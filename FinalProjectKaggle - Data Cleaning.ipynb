{
 "cells": [
  {
   "cell_type": "markdown",
   "id": "877e8ff6",
   "metadata": {},
   "source": [
    "# Second Step - Data Cleaning"
   ]
  },
  {
   "cell_type": "markdown",
   "id": "24c2cd63",
   "metadata": {},
   "source": [
    "In this file we handled all the missing data and scaled the data.\n",
    "First, we will check for the types of the columns and check if there is NaN values.\n",
    "Second, we use feature engineering to make 3 columns: 'size in Mb', 'Date in days', 'Experience in days'\n",
    "After we saw there was problems with the types of some columns, we have done the following:\n",
    "1. checked why they where different.\n",
    "2. fixing the values accordingly:\n",
    "    1. Experience Num - replace all he 'a' with '1'.\n",
    "    2. Experience Num Type - changing the values from singular to plural.\n",
    "    3. Experience Num Type - filling the NaN values with 'days'.\n",
    "    4. SubTitle - filling the NaN values with the title from the same dataset.\n",
    "    5. Date Type - filling the NaN values with 'month'.\n",
    "    6. Owned Datasets - filling the NaN values with '1'.\n",
    "    7. Location - filling the NaN values with 'Global'.\n",
    "    8. Views, Downloads, Notebooks, Discussion,Owned Datasets - removing the ',' from the values.\n",
    "3. checked if our dataset is cleaned as expected."
   ]
  },
  {
   "cell_type": "markdown",
   "id": "b08c7524",
   "metadata": {},
   "source": [
    "# Imports"
   ]
  },
  {
   "cell_type": "code",
   "execution_count": 12,
   "id": "4bd2e8e3",
   "metadata": {},
   "outputs": [],
   "source": [
    "import pandas as pd\n",
    "import numpy as np\n",
    "# ignore warnings\n",
    "import warnings\n",
    "warnings.filterwarnings(\"ignore\")"
   ]
  },
  {
   "cell_type": "markdown",
   "id": "d8fa4b5e",
   "metadata": {},
   "source": [
    "# getting the data after the crawling"
   ]
  },
  {
   "cell_type": "code",
   "execution_count": 26,
   "id": "8008bdd0",
   "metadata": {},
   "outputs": [],
   "source": [
    "data_of_database_all_pages = pd.read_csv('All_Data_Stored_From_Kaggle.csv')"
   ]
  },
  {
   "cell_type": "code",
   "execution_count": 27,
   "id": "19106be4",
   "metadata": {},
   "outputs": [
    {
     "data": {
      "text/html": [
       "<div>\n",
       "<style scoped>\n",
       "    .dataframe tbody tr th:only-of-type {\n",
       "        vertical-align: middle;\n",
       "    }\n",
       "\n",
       "    .dataframe tbody tr th {\n",
       "        vertical-align: top;\n",
       "    }\n",
       "\n",
       "    .dataframe thead th {\n",
       "        text-align: right;\n",
       "    }\n",
       "</style>\n",
       "<table border=\"1\" class=\"dataframe\">\n",
       "  <thead>\n",
       "    <tr style=\"text-align: right;\">\n",
       "      <th></th>\n",
       "      <th>Title</th>\n",
       "      <th>SubTitle</th>\n",
       "      <th>Version</th>\n",
       "      <th>Date Num</th>\n",
       "      <th>Date Type</th>\n",
       "      <th>Usability</th>\n",
       "      <th>Rating</th>\n",
       "      <th>Views</th>\n",
       "      <th>Downloads</th>\n",
       "      <th>Notebooks</th>\n",
       "      <th>...</th>\n",
       "      <th>Author</th>\n",
       "      <th>Location</th>\n",
       "      <th>Experience Num</th>\n",
       "      <th>Experience Num Type</th>\n",
       "      <th>Followers</th>\n",
       "      <th>Following</th>\n",
       "      <th>Owned Datasets</th>\n",
       "      <th>Code Helper</th>\n",
       "      <th>Discussion</th>\n",
       "      <th>Competitions</th>\n",
       "    </tr>\n",
       "  </thead>\n",
       "  <tbody>\n",
       "    <tr>\n",
       "      <th>0</th>\n",
       "      <td>US Public Food Assistance</td>\n",
       "      <td>Where does it come from, who spends it, who ge...</td>\n",
       "      <td>8</td>\n",
       "      <td>1</td>\n",
       "      <td>year</td>\n",
       "      <td>9.1</td>\n",
       "      <td>367</td>\n",
       "      <td>92,967</td>\n",
       "      <td>15,336</td>\n",
       "      <td>1,771</td>\n",
       "      <td>...</td>\n",
       "      <td>JohnM</td>\n",
       "      <td>Fort Worth, Texas, United States</td>\n",
       "      <td>7</td>\n",
       "      <td>years</td>\n",
       "      <td>1092</td>\n",
       "      <td>229</td>\n",
       "      <td>28</td>\n",
       "      <td>44</td>\n",
       "      <td>930</td>\n",
       "      <td>129</td>\n",
       "    </tr>\n",
       "    <tr>\n",
       "      <th>1</th>\n",
       "      <td>Kepler Exoplanet Search Results</td>\n",
       "      <td>10000 exoplanet candidates examined by the Kep...</td>\n",
       "      <td>2</td>\n",
       "      <td>4</td>\n",
       "      <td>year</td>\n",
       "      <td>8.2</td>\n",
       "      <td>639</td>\n",
       "      <td>112,406</td>\n",
       "      <td>9,760</td>\n",
       "      <td>1,460</td>\n",
       "      <td>...</td>\n",
       "      <td>NASA</td>\n",
       "      <td>NaN</td>\n",
       "      <td>0</td>\n",
       "      <td>NaN</td>\n",
       "      <td>0</td>\n",
       "      <td>0</td>\n",
       "      <td>NaN</td>\n",
       "      <td>0</td>\n",
       "      <td>0</td>\n",
       "      <td>0</td>\n",
       "    </tr>\n",
       "    <tr>\n",
       "      <th>2</th>\n",
       "      <td>Things on Reddit</td>\n",
       "      <td>The top 100 products in each subreddit from 20...</td>\n",
       "      <td>1</td>\n",
       "      <td>4</td>\n",
       "      <td>year</td>\n",
       "      <td>5.9</td>\n",
       "      <td>204</td>\n",
       "      <td>56,658</td>\n",
       "      <td>8,014</td>\n",
       "      <td>1,513</td>\n",
       "      <td>...</td>\n",
       "      <td>Aleksey Bilogur</td>\n",
       "      <td>New York, New York, United States</td>\n",
       "      <td>5</td>\n",
       "      <td>years</td>\n",
       "      <td>1602</td>\n",
       "      <td>30</td>\n",
       "      <td>44</td>\n",
       "      <td>230</td>\n",
       "      <td>675</td>\n",
       "      <td>1</td>\n",
       "    </tr>\n",
       "  </tbody>\n",
       "</table>\n",
       "<p>3 rows × 24 columns</p>\n",
       "</div>"
      ],
      "text/plain": [
       "                             Title  \\\n",
       "0        US Public Food Assistance   \n",
       "1  Kepler Exoplanet Search Results   \n",
       "2                 Things on Reddit   \n",
       "\n",
       "                                            SubTitle  Version  Date Num  \\\n",
       "0  Where does it come from, who spends it, who ge...        8         1   \n",
       "1  10000 exoplanet candidates examined by the Kep...        2         4   \n",
       "2  The top 100 products in each subreddit from 20...        1         4   \n",
       "\n",
       "  Date Type  Usability  Rating    Views Downloads Notebooks  ...  \\\n",
       "0      year        9.1     367   92,967    15,336     1,771  ...   \n",
       "1      year        8.2     639  112,406     9,760     1,460  ...   \n",
       "2      year        5.9     204   56,658     8,014     1,513  ...   \n",
       "\n",
       "            Author                           Location  Experience Num  \\\n",
       "0            JohnM   Fort Worth, Texas, United States               7   \n",
       "1             NASA                                NaN               0   \n",
       "2  Aleksey Bilogur  New York, New York, United States               5   \n",
       "\n",
       "  Experience Num Type Followers Following Owned Datasets Code Helper  \\\n",
       "0               years      1092       229             28          44   \n",
       "1                 NaN         0         0            NaN           0   \n",
       "2               years      1602        30             44         230   \n",
       "\n",
       "   Discussion  Competitions  \n",
       "0         930           129  \n",
       "1           0             0  \n",
       "2         675             1  \n",
       "\n",
       "[3 rows x 24 columns]"
      ]
     },
     "execution_count": 27,
     "metadata": {},
     "output_type": "execute_result"
    }
   ],
   "source": [
    "data_of_database_all_pages.head(3)\n"
   ]
  },
  {
   "cell_type": "code",
   "execution_count": 28,
   "id": "67bdaaab",
   "metadata": {},
   "outputs": [
    {
     "name": "stdout",
     "output_type": "stream",
     "text": [
      "<class 'pandas.core.frame.DataFrame'>\n",
      "RangeIndex: 2737 entries, 0 to 2736\n",
      "Data columns (total 24 columns):\n",
      " #   Column               Non-Null Count  Dtype  \n",
      "---  ------               --------------  -----  \n",
      " 0   Title                2737 non-null   object \n",
      " 1   SubTitle             2714 non-null   object \n",
      " 2   Version              2737 non-null   int64  \n",
      " 3   Date Num             2737 non-null   int64  \n",
      " 4   Date Type            2596 non-null   object \n",
      " 5   Usability            2737 non-null   float64\n",
      " 6   Rating               2737 non-null   int64  \n",
      " 7   Views                2737 non-null   object \n",
      " 8   Downloads            2737 non-null   object \n",
      " 9   Notebooks            2737 non-null   object \n",
      " 10  Topics               2737 non-null   int64  \n",
      " 11  Number Of Files      2737 non-null   object \n",
      " 12  File Size            2674 non-null   float64\n",
      " 13  File Size Type       2674 non-null   object \n",
      " 14  Author               2737 non-null   object \n",
      " 15  Location             1541 non-null   object \n",
      " 16  Experience Num       2737 non-null   object \n",
      " 17  Experience Num Type  1721 non-null   object \n",
      " 18  Followers            2737 non-null   int64  \n",
      " 19  Following            2737 non-null   int64  \n",
      " 20  Owned Datasets       1721 non-null   object \n",
      " 21  Code Helper          2737 non-null   int64  \n",
      " 22  Discussion           2737 non-null   object \n",
      " 23  Competitions         2737 non-null   int64  \n",
      "dtypes: float64(2), int64(8), object(14)\n",
      "memory usage: 513.3+ KB\n"
     ]
    }
   ],
   "source": [
    "data_of_database_all_pages.info()"
   ]
  },
  {
   "cell_type": "markdown",
   "id": "2292ff16",
   "metadata": {},
   "source": [
    "# Fixing data #1:\n",
    "replacing the letter 'a' with '1'."
   ]
  },
  {
   "cell_type": "code",
   "execution_count": 29,
   "id": "4f6c9e04",
   "metadata": {},
   "outputs": [
    {
     "data": {
      "text/plain": [
       "array(['7', '0', '5', '4', '6', '3', '10', '9', '2', 'a', '8', '11', '12',\n",
       "       '13'], dtype=object)"
      ]
     },
     "execution_count": 29,
     "metadata": {},
     "output_type": "execute_result"
    }
   ],
   "source": [
    "data_of_database_all_pages['Experience Num'].unique()"
   ]
  },
  {
   "cell_type": "code",
   "execution_count": 30,
   "id": "a414e2c5",
   "metadata": {},
   "outputs": [],
   "source": [
    "replace_Experience_Num = {'a': 1}\n",
    "data_of_database_all_pages['Experience Num'].replace(replace_Experience_Num,inplace = True)"
   ]
  },
  {
   "cell_type": "markdown",
   "id": "556242d9",
   "metadata": {},
   "source": [
    "# Feature engineering:\n",
    "### creating a new column for the size of the dataset with the columns'File Size' and 'File Size Type'\n",
    " scaling the file size num into MB -> (B -> /8000000, GB -> *1000, kB -> /1000) \n",
    "### creating a new column for the date of the dataset with the columns 'Date Num' and 'Date Type'\n",
    " changing the date type num into day -> (year -> *365, month -> *30, hour -> /24)\n",
    "### creating a new column for the author experience with the columns 'Experience Num' and 'Experience Num Type'\n",
    " changing the experience type num into day -> (year -> *365, month -> *30, hour -> /24)"
   ]
  },
  {
   "cell_type": "code",
   "execution_count": 31,
   "id": "acf01438",
   "metadata": {
    "scrolled": true
   },
   "outputs": [],
   "source": [
    "rows = data_of_database_all_pages.shape[0]\n",
    "size_in_Mb = list()\n",
    "Date_in_days  = list()\n",
    "Experience_in_days  = list()\n",
    "\n",
    "for index,row in data_of_database_all_pages.iterrows():\n",
    "    size_type = row['File Size Type']\n",
    "    if row['File Size'] == None:\n",
    "        data = 1\n",
    "    else:\n",
    "        data = float(row['File Size'])\n",
    "    if size_type == 'B':\n",
    "        data = data/8000000\n",
    "    elif size_type == 'GB':\n",
    "        data = data*1000\n",
    "    elif size_type == 'kB':\n",
    "        data = data/1000 \n",
    "    size_in_Mb.append(data)\n",
    "    \n",
    "    date_type  = row['Date Type']\n",
    "    date = float(row['Date Num'])\n",
    "    if date_type == 'year':\n",
    "        date = date*365\n",
    "    elif date_type == 'month':\n",
    "        date = date*30\n",
    "    elif date_type == 'hour':\n",
    "        date = date/24\n",
    "    Date_in_days.append(int(date))\n",
    "    \n",
    "    experience_type  = row['Experience Num Type']\n",
    "    experience = float(row['Experience Num'])\n",
    "    if experience_type == 'year' or experience_type == 'years':\n",
    "        experience = experience*365\n",
    "    elif experience_type == 'month' or experience_type == 'months':\n",
    "        experience = experience*30\n",
    "    elif experience_type == 'hour':\n",
    "        experience = experience/24\n",
    "    Experience_in_days.append(int(experience))\n",
    "       \n",
    "data_of_database_all_pages['size in Mb'] = size_in_Mb \n",
    "data_of_database_all_pages['Date in days'] = Date_in_days \n",
    "data_of_database_all_pages['Experience in days'] = Experience_in_days "
   ]
  },
  {
   "cell_type": "markdown",
   "id": "f35d06a3",
   "metadata": {},
   "source": [
    "# Fixing data #2:\n",
    "changing the names from singular to plural and filling the missing data with \"days\""
   ]
  },
  {
   "cell_type": "code",
   "execution_count": 32,
   "id": "83423039",
   "metadata": {},
   "outputs": [
    {
     "data": {
      "text/plain": [
       "array(['years', nan, 'year', 'months', 'days', 'month'], dtype=object)"
      ]
     },
     "execution_count": 32,
     "metadata": {},
     "output_type": "execute_result"
    }
   ],
   "source": [
    "data_of_database_all_pages[\"Experience Num Type\"].unique()"
   ]
  },
  {
   "cell_type": "code",
   "execution_count": 33,
   "id": "7b429ce9",
   "metadata": {},
   "outputs": [],
   "source": [
    "replace_Experience_Num_Type = {'year':'years','month':'months'}\n",
    "data_of_database_all_pages[\"Experience Num Type\"].replace(replace_Experience_Num_Type,inplace = True)\n",
    "data_of_database_all_pages[\"Experience Num Type\"].fillna(\"days\",inplace = True)"
   ]
  },
  {
   "cell_type": "markdown",
   "id": "1f10680e",
   "metadata": {},
   "source": [
    "# Fixing data #3:\n",
    "filling the missing subtitle data with the title from the same dataset"
   ]
  },
  {
   "cell_type": "code",
   "execution_count": 35,
   "id": "ce893e23",
   "metadata": {},
   "outputs": [],
   "source": [
    "data_of_database_all_pages[\"SubTitle\"].fillna(data_of_database_all_pages[\"Title\"],inplace = True)"
   ]
  },
  {
   "cell_type": "markdown",
   "id": "a35cff52",
   "metadata": {},
   "source": [
    "# Fixing data #4:\n",
    "filling the missing data with \"month\""
   ]
  },
  {
   "cell_type": "code",
   "execution_count": 36,
   "id": "c28d09c0",
   "metadata": {},
   "outputs": [],
   "source": [
    "data_of_database_all_pages[\"Date Type\"].fillna(\"month\",inplace = True)"
   ]
  },
  {
   "cell_type": "markdown",
   "id": "9aef642e",
   "metadata": {},
   "source": [
    "# Fixing data #5:\n",
    "filling the missing data with 1"
   ]
  },
  {
   "cell_type": "code",
   "execution_count": 37,
   "id": "2e15830f",
   "metadata": {},
   "outputs": [],
   "source": [
    "data_of_database_all_pages[\"Owned Datasets\"].fillna(1,inplace = True)"
   ]
  },
  {
   "cell_type": "markdown",
   "id": "7f9a25b2",
   "metadata": {},
   "source": [
    "# Fixing data #6:\n",
    "filling the missing data with \"Global\""
   ]
  },
  {
   "cell_type": "code",
   "execution_count": 38,
   "id": "33725f5a",
   "metadata": {},
   "outputs": [],
   "source": [
    "data_of_database_all_pages[\"Location\"].fillna(\"Global\",inplace = True)"
   ]
  },
  {
   "cell_type": "markdown",
   "id": "e1ce060c",
   "metadata": {},
   "source": [
    "# Fixing data #7:\n",
    "after filling the missing data we wanted to remove the rows that still contain missing data"
   ]
  },
  {
   "cell_type": "code",
   "execution_count": 39,
   "id": "fa8360e3",
   "metadata": {},
   "outputs": [],
   "source": [
    "data_of_database_all_pages = data_of_database_all_pages.dropna()"
   ]
  },
  {
   "cell_type": "markdown",
   "id": "3714ecae",
   "metadata": {},
   "source": [
    "# Checking\n",
    "checking the data types and the non-null count that is the same in every column"
   ]
  },
  {
   "cell_type": "code",
   "execution_count": 40,
   "id": "53e98364",
   "metadata": {},
   "outputs": [
    {
     "name": "stdout",
     "output_type": "stream",
     "text": [
      "<class 'pandas.core.frame.DataFrame'>\n",
      "Int64Index: 2674 entries, 0 to 2736\n",
      "Data columns (total 27 columns):\n",
      " #   Column               Non-Null Count  Dtype  \n",
      "---  ------               --------------  -----  \n",
      " 0   Title                2674 non-null   object \n",
      " 1   SubTitle             2674 non-null   object \n",
      " 2   Version              2674 non-null   int64  \n",
      " 3   Date Num             2674 non-null   int64  \n",
      " 4   Date Type            2674 non-null   object \n",
      " 5   Usability            2674 non-null   float64\n",
      " 6   Rating               2674 non-null   int64  \n",
      " 7   Views                2674 non-null   object \n",
      " 8   Downloads            2674 non-null   object \n",
      " 9   Notebooks            2674 non-null   object \n",
      " 10  Topics               2674 non-null   int64  \n",
      " 11  Number Of Files      2674 non-null   object \n",
      " 12  File Size            2674 non-null   float64\n",
      " 13  File Size Type       2674 non-null   object \n",
      " 14  Author               2674 non-null   object \n",
      " 15  Location             2674 non-null   object \n",
      " 16  Experience Num       2674 non-null   object \n",
      " 17  Experience Num Type  2674 non-null   object \n",
      " 18  Followers            2674 non-null   int64  \n",
      " 19  Following            2674 non-null   int64  \n",
      " 20  Owned Datasets       2674 non-null   object \n",
      " 21  Code Helper          2674 non-null   int64  \n",
      " 22  Discussion           2674 non-null   object \n",
      " 23  Competitions         2674 non-null   int64  \n",
      " 24  size in Mb           2674 non-null   float64\n",
      " 25  Date in days         2674 non-null   int64  \n",
      " 26  Experience in days   2674 non-null   int64  \n",
      "dtypes: float64(3), int64(10), object(14)\n",
      "memory usage: 584.9+ KB\n"
     ]
    }
   ],
   "source": [
    "data_of_database_all_pages.info()"
   ]
  },
  {
   "cell_type": "markdown",
   "id": "6fbcb111",
   "metadata": {},
   "source": [
    "# fixing the type of columns\n"
   ]
  },
  {
   "cell_type": "code",
   "execution_count": 41,
   "id": "384c75f7",
   "metadata": {},
   "outputs": [
    {
     "data": {
      "text/plain": [
       "array(['92,967', '112,406', '56,658', ..., '13,243', '106,585', '142,157'],\n",
       "      dtype=object)"
      ]
     },
     "execution_count": 41,
     "metadata": {},
     "output_type": "execute_result"
    }
   ],
   "source": [
    "data_of_database_all_pages[\"Views\"].unique()"
   ]
  },
  {
   "cell_type": "markdown",
   "id": "d7287321",
   "metadata": {},
   "source": [
    "## there is ',' as a thousand separator -> we don't want that\n",
    "* the ',' changing the type of the column to Object(String).\n",
    "* after removing the ',' we can change the type of the column into int"
   ]
  },
  {
   "cell_type": "code",
   "execution_count": 42,
   "id": "06bcad17",
   "metadata": {},
   "outputs": [],
   "source": [
    "remove_comma = [\"Views\",\"Downloads\",\"Notebooks\",\"Discussion\"]\n",
    "def remove_pe(text): \n",
    "    text_without = text.replace(\",\", \"\")\n",
    "    return text_without\n",
    "for col in remove_comma:\n",
    "    data_of_database_all_pages[col] = data_of_database_all_pages[col].apply(lambda x: remove_pe(x)).astype('int64')"
   ]
  },
  {
   "cell_type": "code",
   "execution_count": 43,
   "id": "5b0d1de4",
   "metadata": {},
   "outputs": [],
   "source": [
    "data_of_database_all_pages[\"Owned Datasets\"]= data_of_database_all_pages[\"Owned Datasets\"].apply(lambda x: x.replace(',', '')\n",
    "                                if isinstance(x, str) else x).astype('int64')"
   ]
  },
  {
   "cell_type": "code",
   "execution_count": 44,
   "id": "fc14c708",
   "metadata": {},
   "outputs": [
    {
     "data": {
      "text/plain": [
       "array(['80', '1', '5074', '30', '2', '5856', '9', '6', '7', '5', '558k',\n",
       "       '3', '103k', '4317', '51.9k', '203k', '24.3k', '251', '8539',\n",
       "       '10.0k', '50.6k', '112k', '11', '508', '278k', '4', '87.0k',\n",
       "       '41.2k', '153', '10', '33', '20.0k', '14', '5935', '13.2k', '6899',\n",
       "       '8', '27.6k', '233', '16.8k', '414k', '42.9k', '84.5k', '202',\n",
       "       '101k', '16.2k', '42', '810', '1844', '19', '16', '1371', '320',\n",
       "       '4009', '59', '25', '12', '835', '327', '8733', '815', '12.9k',\n",
       "       '13', '15.0k', '32', '380k', '487', '44.1k', '70.5k', '6362',\n",
       "       '5608', '361', '39', '23', '1881', '18', '6004', '17', '998',\n",
       "       '5539', '870', '83.7k', '300', '215', '2344', '613', '12.8k',\n",
       "       '5784', '3664', '30.6k', '64.5k', '279', '948', '169', '31.5k',\n",
       "       '51.5k', '733', '681', '21', '34', '264', '5173', '512', '266',\n",
       "       '56.3k', '30.8k', '4900', '2195', '20', '29', '5015', '718',\n",
       "       '6662', '228', '167', '15', '74', '3576', '6002', '429k', '28',\n",
       "       '24', '76', '6881', '8389', '22', '11.4k', '465', '150', '29.4k',\n",
       "       '4371', '695', '35', '27', '190', '249k', '113k', '28.3k', '46.4k',\n",
       "       '3327', '1462', '7203', '3421', '37.3k', '134', '92.0k', '37',\n",
       "       '1984', '9600', '1002', '2140', '71.3k', '114', '361k', '1120',\n",
       "       '45', '100.0k', '3577', '208', '13.0k', '67.6k', '498', '4879',\n",
       "       '6842', '1543', '1572', '16.4k', '1628', '2972', '33.3k', '2503',\n",
       "       '132k', '3008', '4330', '38', '1330', '11.1k', '107k', '17.8k',\n",
       "       '438', '49', '849', '1080', '6697', '557', '26', '384', '3733',\n",
       "       '741', '1226', '2151', '43', '118k', '159', '57', '488', '8649',\n",
       "       '14.1k', '153k', '398k', '1078', '7428', '62', '12.0k', '4419',\n",
       "       '100k', '48', '1845', '56', '1000', '93', '381', '79', '36', '972',\n",
       "       '2501', '7930', '507', '61', '114k', '78', '324', '224', '771',\n",
       "       '53', '63', '157', '230', '2134', '16.5k', '31.1k', '81', '273',\n",
       "       '1394', '3528', '136', '295', '4400', '366', '790', '50', '95',\n",
       "       '129', '4516', '6495', '4843', '3176', '82', '769', '116', '2731',\n",
       "       '560', '2587', '34.8k', '345', '1720', '3083', '2482', '349',\n",
       "       '17.4k', '783', '120', '352', '349k', '24.5k', '70', '44', '55',\n",
       "       '7330', '31', '21.7k', '145', '5340', '151', '299', '231', '375',\n",
       "       '35.9k', '376', '21.2k', '564', '105', '253', '1777', '481',\n",
       "       '32.3k', '165', '23.1k', '544', '149', '3092', '3477', '10000',\n",
       "       '52', '369', '26.2k', '35.1k', '1295', '3264', '54', '740', '1059',\n",
       "       '58.7k', '11.8k', '87.9k', '750', '146k'], dtype=object)"
      ]
     },
     "execution_count": 44,
     "metadata": {},
     "output_type": "execute_result"
    }
   ],
   "source": [
    "data_of_database_all_pages[\"Number Of Files\"].unique()"
   ]
  },
  {
   "cell_type": "markdown",
   "id": "1db05ab0",
   "metadata": {},
   "source": [
    "## there is 'k' as a thousand separator -> we don't want that\n",
    "* the 'k' changing the type of the column to Object(String).\n",
    "* after removing the 'k' and multiplying by 1000 the value we can change the type of the column into int"
   ]
  },
  {
   "cell_type": "code",
   "execution_count": 45,
   "id": "5b86bff1",
   "metadata": {},
   "outputs": [],
   "source": [
    "def value_to_int(x):\n",
    "    if  type(x) == int:\n",
    "        return x\n",
    "    if x[-1] =='k': \n",
    "           x = float(x[:-1])*1000\n",
    "    return int(x)\n",
    "\n",
    "data_of_database_all_pages[\"Number Of Files\"] = data_of_database_all_pages[\"Number Of Files\"].apply(value_to_int)"
   ]
  },
  {
   "cell_type": "markdown",
   "id": "9676dbd9",
   "metadata": {},
   "source": [
    "## Changing the type of Experience Num into int"
   ]
  },
  {
   "cell_type": "code",
   "execution_count": 46,
   "id": "6a427454",
   "metadata": {},
   "outputs": [
    {
     "data": {
      "text/plain": [
       "array(['7', '0', '5', '4', '6', '3', '10', '9', '2', 1, '8', '11', '12',\n",
       "       '13'], dtype=object)"
      ]
     },
     "execution_count": 46,
     "metadata": {},
     "output_type": "execute_result"
    }
   ],
   "source": [
    "data_of_database_all_pages[\"Experience Num\"].unique()"
   ]
  },
  {
   "cell_type": "code",
   "execution_count": 47,
   "id": "1292d8fb",
   "metadata": {},
   "outputs": [],
   "source": [
    "data_of_database_all_pages[\"Experience Num\"] = data_of_database_all_pages[\"Experience Num\"].astype('int64')"
   ]
  },
  {
   "cell_type": "markdown",
   "id": "ef5a966a",
   "metadata": {},
   "source": [
    "## Checking if our dataset is cleaned as expected"
   ]
  },
  {
   "cell_type": "code",
   "execution_count": 48,
   "id": "c2e3c4e2",
   "metadata": {},
   "outputs": [
    {
     "name": "stdout",
     "output_type": "stream",
     "text": [
      "<class 'pandas.core.frame.DataFrame'>\n",
      "Int64Index: 2674 entries, 0 to 2736\n",
      "Data columns (total 27 columns):\n",
      " #   Column               Non-Null Count  Dtype  \n",
      "---  ------               --------------  -----  \n",
      " 0   Title                2674 non-null   object \n",
      " 1   SubTitle             2674 non-null   object \n",
      " 2   Version              2674 non-null   int64  \n",
      " 3   Date Num             2674 non-null   int64  \n",
      " 4   Date Type            2674 non-null   object \n",
      " 5   Usability            2674 non-null   float64\n",
      " 6   Rating               2674 non-null   int64  \n",
      " 7   Views                2674 non-null   int64  \n",
      " 8   Downloads            2674 non-null   int64  \n",
      " 9   Notebooks            2674 non-null   int64  \n",
      " 10  Topics               2674 non-null   int64  \n",
      " 11  Number Of Files      2674 non-null   int64  \n",
      " 12  File Size            2674 non-null   float64\n",
      " 13  File Size Type       2674 non-null   object \n",
      " 14  Author               2674 non-null   object \n",
      " 15  Location             2674 non-null   object \n",
      " 16  Experience Num       2674 non-null   int64  \n",
      " 17  Experience Num Type  2674 non-null   object \n",
      " 18  Followers            2674 non-null   int64  \n",
      " 19  Following            2674 non-null   int64  \n",
      " 20  Owned Datasets       2674 non-null   int64  \n",
      " 21  Code Helper          2674 non-null   int64  \n",
      " 22  Discussion           2674 non-null   int64  \n",
      " 23  Competitions         2674 non-null   int64  \n",
      " 24  size in Mb           2674 non-null   float64\n",
      " 25  Date in days         2674 non-null   int64  \n",
      " 26  Experience in days   2674 non-null   int64  \n",
      "dtypes: float64(3), int64(17), object(7)\n",
      "memory usage: 584.9+ KB\n"
     ]
    }
   ],
   "source": [
    "data_of_database_all_pages.info()"
   ]
  },
  {
   "cell_type": "markdown",
   "id": "498085f6",
   "metadata": {},
   "source": [
    "# Exporting the updated database into csv file"
   ]
  },
  {
   "cell_type": "code",
   "execution_count": 49,
   "id": "dea74aa6",
   "metadata": {},
   "outputs": [],
   "source": [
    "data_of_database_all_pages.to_csv('All_Data_Stored_From_Kaggle_after_cleaning.csv')"
   ]
  },
  {
   "cell_type": "code",
   "execution_count": null,
   "id": "2f0b5873",
   "metadata": {},
   "outputs": [],
   "source": []
  }
 ],
 "metadata": {
  "kernelspec": {
   "display_name": "Python 3 (ipykernel)",
   "language": "python",
   "name": "python3"
  },
  "language_info": {
   "codemirror_mode": {
    "name": "ipython",
    "version": 3
   },
   "file_extension": ".py",
   "mimetype": "text/x-python",
   "name": "python",
   "nbconvert_exporter": "python",
   "pygments_lexer": "ipython3",
   "version": "3.9.7"
  }
 },
 "nbformat": 4,
 "nbformat_minor": 5
}
