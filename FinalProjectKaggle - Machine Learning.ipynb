{
 "cells": [
  {
   "cell_type": "markdown",
   "id": "10f97b4b",
   "metadata": {},
   "source": [
    "# Forth Step - Machine Learning\n",
    "in this file we used machine learning of regression models in order to achieve our research goal.\n",
    "\"can we predict how polular a new dataset in the website KAGGLE can be -> with Ranking, with Views and with downloads\""
   ]
  },
  {
   "cell_type": "markdown",
   "id": "7ccbf6c2",
   "metadata": {},
   "source": [
    "# Imports"
   ]
  },
  {
   "cell_type": "code",
   "execution_count": 1,
   "id": "d93fdfed",
   "metadata": {},
   "outputs": [],
   "source": [
    "import pandas as pd\n",
    "import numpy as np\n",
    "import seaborn as sns\n",
    "import matplotlib.pyplot as plt\n",
    "from matplotlib.colors import ListedColormap\n",
    "import sklearn\n",
    "from sklearn.neighbors import KNeighborsRegressor\n",
    "from sklearn.model_selection import train_test_split\n",
    "from sklearn.metrics import mean_squared_error, r2_score, silhouette_score\n",
    "from sklearn.preprocessing import MinMaxScaler\n",
    "from sklearn.linear_model import Perceptron, SGDClassifier,LogisticRegression,LinearRegression,Ridge,Lasso\n",
    "from sklearn.ensemble import RandomForestRegressor\n",
    "from sklearn.datasets import make_regression\n",
    "from sklearn.ensemble import RandomForestClassifier\n",
    "from sklearn.decomposition import PCA,KernelPCA\n",
    "from sklearn.preprocessing import StandardScaler\n",
    "from sklearn.model_selection import cross_val_score\n",
    "import warnings\n",
    "from sklearn.exceptions import ConvergenceWarning\n",
    "warnings.simplefilter(\"ignore\")\n",
    "warnings.simplefilter(action='ignore', category=FutureWarning)\n",
    "warnings.simplefilter(\"ignore\", category=ConvergenceWarning)\n",
    "# show several prints in one cell. This will allow us to condence every trick in one cell.\n",
    "from IPython.core.interactiveshell import InteractiveShell\n",
    "InteractiveShell.ast_node_interactivity = \"all\"\n",
    "%matplotlib inline\n",
    "pd.pandas.set_option('display.max_columns', None)\n",
    "pd.set_option('display.float_format', lambda x: '%.3f' % x)\n"
   ]
  },
  {
   "cell_type": "code",
   "execution_count": 2,
   "id": "17382e80",
   "metadata": {},
   "outputs": [
    {
     "name": "stdout",
     "output_type": "stream",
     "text": [
      "<class 'pandas.core.frame.DataFrame'>\n",
      "RangeIndex: 2674 entries, 0 to 2673\n",
      "Data columns (total 28 columns):\n",
      " #   Column               Non-Null Count  Dtype  \n",
      "---  ------               --------------  -----  \n",
      " 0   Unnamed: 0           2674 non-null   int64  \n",
      " 1   Title                2674 non-null   object \n",
      " 2   SubTitle             2674 non-null   object \n",
      " 3   Version              2674 non-null   int64  \n",
      " 4   Date Num             2674 non-null   int64  \n",
      " 5   Date Type            2674 non-null   object \n",
      " 6   Usability            2674 non-null   float64\n",
      " 7   Rating               2674 non-null   int64  \n",
      " 8   Views                2674 non-null   int64  \n",
      " 9   Downloads            2674 non-null   int64  \n",
      " 10  Notebooks            2674 non-null   int64  \n",
      " 11  Topics               2674 non-null   int64  \n",
      " 12  Number Of Files      2674 non-null   int64  \n",
      " 13  File Size            2674 non-null   float64\n",
      " 14  File Size Type       2674 non-null   object \n",
      " 15  Author               2674 non-null   object \n",
      " 16  Location             2674 non-null   object \n",
      " 17  Experience Num       2674 non-null   int64  \n",
      " 18  Experience Num Type  2674 non-null   object \n",
      " 19  Followers            2674 non-null   int64  \n",
      " 20  Following            2674 non-null   int64  \n",
      " 21  Owned Datasets       2674 non-null   int64  \n",
      " 22  Code Helper          2674 non-null   int64  \n",
      " 23  Discussion           2674 non-null   int64  \n",
      " 24  Competitions         2674 non-null   int64  \n",
      " 25  size in Mb           2674 non-null   float64\n",
      " 26  Date in days         2674 non-null   int64  \n",
      " 27  Experience in days   2674 non-null   int64  \n",
      "dtypes: float64(3), int64(18), object(7)\n",
      "memory usage: 585.1+ KB\n"
     ]
    }
   ],
   "source": [
    "df= pd.read_csv(\"All_Data_Stored_From_Kaggle_after_cleaning.csv\")\n",
    "df.info()"
   ]
  },
  {
   "cell_type": "markdown",
   "id": "dcd8198a",
   "metadata": {},
   "source": [
    "# Removing non-Numeric Columns"
   ]
  },
  {
   "cell_type": "code",
   "execution_count": 3,
   "id": "b00fe13c",
   "metadata": {},
   "outputs": [],
   "source": [
    "df = df.drop(labels = ['Unnamed: 0', 'Title', 'SubTitle', 'Date Type', 'Author','Experience Num','Location',\n",
    "                       'Experience Num Type', 'Date Num','File Size','File Size Type'], axis = 1).copy()"
   ]
  },
  {
   "cell_type": "code",
   "execution_count": 4,
   "id": "ab75a8f2",
   "metadata": {},
   "outputs": [
    {
     "data": {
      "text/html": [
       "<div>\n",
       "<style scoped>\n",
       "    .dataframe tbody tr th:only-of-type {\n",
       "        vertical-align: middle;\n",
       "    }\n",
       "\n",
       "    .dataframe tbody tr th {\n",
       "        vertical-align: top;\n",
       "    }\n",
       "\n",
       "    .dataframe thead th {\n",
       "        text-align: right;\n",
       "    }\n",
       "</style>\n",
       "<table border=\"1\" class=\"dataframe\">\n",
       "  <thead>\n",
       "    <tr style=\"text-align: right;\">\n",
       "      <th></th>\n",
       "      <th>Version</th>\n",
       "      <th>Usability</th>\n",
       "      <th>Rating</th>\n",
       "      <th>Views</th>\n",
       "      <th>Downloads</th>\n",
       "      <th>Notebooks</th>\n",
       "      <th>Topics</th>\n",
       "      <th>Number Of Files</th>\n",
       "      <th>Followers</th>\n",
       "      <th>Following</th>\n",
       "      <th>Owned Datasets</th>\n",
       "      <th>Code Helper</th>\n",
       "      <th>Discussion</th>\n",
       "      <th>Competitions</th>\n",
       "      <th>size in Mb</th>\n",
       "      <th>Date in days</th>\n",
       "      <th>Experience in days</th>\n",
       "    </tr>\n",
       "  </thead>\n",
       "  <tbody>\n",
       "    <tr>\n",
       "      <th>0</th>\n",
       "      <td>8</td>\n",
       "      <td>9.100</td>\n",
       "      <td>367</td>\n",
       "      <td>92967</td>\n",
       "      <td>15336</td>\n",
       "      <td>1771</td>\n",
       "      <td>4</td>\n",
       "      <td>80</td>\n",
       "      <td>1092</td>\n",
       "      <td>229</td>\n",
       "      <td>28</td>\n",
       "      <td>44</td>\n",
       "      <td>930</td>\n",
       "      <td>129</td>\n",
       "      <td>2.130</td>\n",
       "      <td>365</td>\n",
       "      <td>2555</td>\n",
       "    </tr>\n",
       "    <tr>\n",
       "      <th>1</th>\n",
       "      <td>2</td>\n",
       "      <td>8.200</td>\n",
       "      <td>639</td>\n",
       "      <td>112406</td>\n",
       "      <td>9760</td>\n",
       "      <td>1460</td>\n",
       "      <td>4</td>\n",
       "      <td>1</td>\n",
       "      <td>0</td>\n",
       "      <td>0</td>\n",
       "      <td>1</td>\n",
       "      <td>0</td>\n",
       "      <td>0</td>\n",
       "      <td>0</td>\n",
       "      <td>3.700</td>\n",
       "      <td>1460</td>\n",
       "      <td>0</td>\n",
       "    </tr>\n",
       "    <tr>\n",
       "      <th>2</th>\n",
       "      <td>1</td>\n",
       "      <td>5.900</td>\n",
       "      <td>204</td>\n",
       "      <td>56658</td>\n",
       "      <td>8014</td>\n",
       "      <td>1513</td>\n",
       "      <td>0</td>\n",
       "      <td>5074</td>\n",
       "      <td>1602</td>\n",
       "      <td>30</td>\n",
       "      <td>44</td>\n",
       "      <td>230</td>\n",
       "      <td>675</td>\n",
       "      <td>1</td>\n",
       "      <td>18.560</td>\n",
       "      <td>1460</td>\n",
       "      <td>1825</td>\n",
       "    </tr>\n",
       "    <tr>\n",
       "      <th>3</th>\n",
       "      <td>1</td>\n",
       "      <td>7.100</td>\n",
       "      <td>364</td>\n",
       "      <td>65139</td>\n",
       "      <td>9916</td>\n",
       "      <td>1753</td>\n",
       "      <td>1</td>\n",
       "      <td>1</td>\n",
       "      <td>10</td>\n",
       "      <td>0</td>\n",
       "      <td>5</td>\n",
       "      <td>9</td>\n",
       "      <td>6</td>\n",
       "      <td>1</td>\n",
       "      <td>83.590</td>\n",
       "      <td>1825</td>\n",
       "      <td>1825</td>\n",
       "    </tr>\n",
       "    <tr>\n",
       "      <th>4</th>\n",
       "      <td>3</td>\n",
       "      <td>8.200</td>\n",
       "      <td>10356</td>\n",
       "      <td>145172</td>\n",
       "      <td>12857</td>\n",
       "      <td>12</td>\n",
       "      <td>39</td>\n",
       "      <td>30</td>\n",
       "      <td>926</td>\n",
       "      <td>17</td>\n",
       "      <td>29</td>\n",
       "      <td>21</td>\n",
       "      <td>258</td>\n",
       "      <td>0</td>\n",
       "      <td>3.630</td>\n",
       "      <td>210</td>\n",
       "      <td>1460</td>\n",
       "    </tr>\n",
       "    <tr>\n",
       "      <th>...</th>\n",
       "      <td>...</td>\n",
       "      <td>...</td>\n",
       "      <td>...</td>\n",
       "      <td>...</td>\n",
       "      <td>...</td>\n",
       "      <td>...</td>\n",
       "      <td>...</td>\n",
       "      <td>...</td>\n",
       "      <td>...</td>\n",
       "      <td>...</td>\n",
       "      <td>...</td>\n",
       "      <td>...</td>\n",
       "      <td>...</td>\n",
       "      <td>...</td>\n",
       "      <td>...</td>\n",
       "      <td>...</td>\n",
       "      <td>...</td>\n",
       "    </tr>\n",
       "    <tr>\n",
       "      <th>2669</th>\n",
       "      <td>1</td>\n",
       "      <td>10.000</td>\n",
       "      <td>11</td>\n",
       "      <td>1414</td>\n",
       "      <td>191</td>\n",
       "      <td>3</td>\n",
       "      <td>0</td>\n",
       "      <td>1</td>\n",
       "      <td>35</td>\n",
       "      <td>17</td>\n",
       "      <td>47</td>\n",
       "      <td>18</td>\n",
       "      <td>233</td>\n",
       "      <td>1</td>\n",
       "      <td>3.350</td>\n",
       "      <td>60</td>\n",
       "      <td>365</td>\n",
       "    </tr>\n",
       "    <tr>\n",
       "      <th>2670</th>\n",
       "      <td>5</td>\n",
       "      <td>6.900</td>\n",
       "      <td>9</td>\n",
       "      <td>341</td>\n",
       "      <td>44</td>\n",
       "      <td>0</td>\n",
       "      <td>0</td>\n",
       "      <td>146000</td>\n",
       "      <td>27</td>\n",
       "      <td>3</td>\n",
       "      <td>6</td>\n",
       "      <td>14</td>\n",
       "      <td>8</td>\n",
       "      <td>1</td>\n",
       "      <td>15740.000</td>\n",
       "      <td>30</td>\n",
       "      <td>730</td>\n",
       "    </tr>\n",
       "    <tr>\n",
       "      <th>2671</th>\n",
       "      <td>1</td>\n",
       "      <td>10.000</td>\n",
       "      <td>37</td>\n",
       "      <td>13243</td>\n",
       "      <td>1603</td>\n",
       "      <td>9</td>\n",
       "      <td>1</td>\n",
       "      <td>1</td>\n",
       "      <td>1</td>\n",
       "      <td>0</td>\n",
       "      <td>1</td>\n",
       "      <td>1</td>\n",
       "      <td>1</td>\n",
       "      <td>3</td>\n",
       "      <td>7.540</td>\n",
       "      <td>90</td>\n",
       "      <td>150</td>\n",
       "    </tr>\n",
       "    <tr>\n",
       "      <th>2672</th>\n",
       "      <td>1</td>\n",
       "      <td>10.000</td>\n",
       "      <td>278</td>\n",
       "      <td>106585</td>\n",
       "      <td>12168</td>\n",
       "      <td>67</td>\n",
       "      <td>2</td>\n",
       "      <td>1</td>\n",
       "      <td>25</td>\n",
       "      <td>81</td>\n",
       "      <td>4</td>\n",
       "      <td>1</td>\n",
       "      <td>28</td>\n",
       "      <td>0</td>\n",
       "      <td>0.227</td>\n",
       "      <td>365</td>\n",
       "      <td>365</td>\n",
       "    </tr>\n",
       "    <tr>\n",
       "      <th>2673</th>\n",
       "      <td>1</td>\n",
       "      <td>2.900</td>\n",
       "      <td>342</td>\n",
       "      <td>142157</td>\n",
       "      <td>23940</td>\n",
       "      <td>59</td>\n",
       "      <td>0</td>\n",
       "      <td>1</td>\n",
       "      <td>92</td>\n",
       "      <td>12</td>\n",
       "      <td>9</td>\n",
       "      <td>17</td>\n",
       "      <td>83</td>\n",
       "      <td>1</td>\n",
       "      <td>301.070</td>\n",
       "      <td>1460</td>\n",
       "      <td>1460</td>\n",
       "    </tr>\n",
       "  </tbody>\n",
       "</table>\n",
       "<p>2674 rows × 17 columns</p>\n",
       "</div>"
      ],
      "text/plain": [
       "      Version  Usability  Rating   Views  Downloads  Notebooks  Topics  \\\n",
       "0           8      9.100     367   92967      15336       1771       4   \n",
       "1           2      8.200     639  112406       9760       1460       4   \n",
       "2           1      5.900     204   56658       8014       1513       0   \n",
       "3           1      7.100     364   65139       9916       1753       1   \n",
       "4           3      8.200   10356  145172      12857         12      39   \n",
       "...       ...        ...     ...     ...        ...        ...     ...   \n",
       "2669        1     10.000      11    1414        191          3       0   \n",
       "2670        5      6.900       9     341         44          0       0   \n",
       "2671        1     10.000      37   13243       1603          9       1   \n",
       "2672        1     10.000     278  106585      12168         67       2   \n",
       "2673        1      2.900     342  142157      23940         59       0   \n",
       "\n",
       "      Number Of Files  Followers  Following  Owned Datasets  Code Helper  \\\n",
       "0                  80       1092        229              28           44   \n",
       "1                   1          0          0               1            0   \n",
       "2                5074       1602         30              44          230   \n",
       "3                   1         10          0               5            9   \n",
       "4                  30        926         17              29           21   \n",
       "...               ...        ...        ...             ...          ...   \n",
       "2669                1         35         17              47           18   \n",
       "2670           146000         27          3               6           14   \n",
       "2671                1          1          0               1            1   \n",
       "2672                1         25         81               4            1   \n",
       "2673                1         92         12               9           17   \n",
       "\n",
       "      Discussion  Competitions  size in Mb  Date in days  Experience in days  \n",
       "0            930           129       2.130           365                2555  \n",
       "1              0             0       3.700          1460                   0  \n",
       "2            675             1      18.560          1460                1825  \n",
       "3              6             1      83.590          1825                1825  \n",
       "4            258             0       3.630           210                1460  \n",
       "...          ...           ...         ...           ...                 ...  \n",
       "2669         233             1       3.350            60                 365  \n",
       "2670           8             1   15740.000            30                 730  \n",
       "2671           1             3       7.540            90                 150  \n",
       "2672          28             0       0.227           365                 365  \n",
       "2673          83             1     301.070          1460                1460  \n",
       "\n",
       "[2674 rows x 17 columns]"
      ]
     },
     "execution_count": 4,
     "metadata": {},
     "output_type": "execute_result"
    }
   ],
   "source": [
    "df"
   ]
  },
  {
   "cell_type": "markdown",
   "id": "2c0701c4",
   "metadata": {},
   "source": [
    "# Removing outliers with IQR"
   ]
  },
  {
   "cell_type": "code",
   "execution_count": 5,
   "id": "0415054c",
   "metadata": {},
   "outputs": [],
   "source": [
    "def remove_outliers(X_train, X_test, y_train, y_test):\n",
    "    X_train=X_train.copy()\n",
    "    X_test= X_test.copy()\n",
    "    y_train= y_train.copy()\n",
    "    y_test= y_test.copy()\n",
    "    col_list = X_train.columns\n",
    "    for col in col_list:\n",
    "        Q1 = np.percentile(X_train[col], 15)\n",
    "        Q3 = np.percentile(X_train[col], 85)\n",
    "        IQR = Q3 - Q1\n",
    "        X_train.loc[(X_train[col] < Q1 - 1.5*IQR) | (X_train[col] > Q3 + 1.5*IQR ),col]= np.nan\n",
    "        X_test.loc[(X_test[col] < Q1 - 1.5*IQR) | (X_test[col] > Q3 + 1.5*IQR ),col] = np.nan\n",
    "    X_train.dropna(inplace=True)\n",
    "    X_test.dropna(inplace=True)\n",
    "    return X_train, X_test, y_train[list(X_train.index)], y_test[list(X_test.index)]"
   ]
  },
  {
   "cell_type": "markdown",
   "id": "6bc1cb8b",
   "metadata": {},
   "source": [
    "# Scaling the data with StandardScaler"
   ]
  },
  {
   "cell_type": "code",
   "execution_count": 6,
   "id": "07879301",
   "metadata": {},
   "outputs": [],
   "source": [
    "def scale_data(X_train, X_test):\n",
    "    X_train_scaled = X_train.copy()\n",
    "    X_test_scaled = X_test.copy()\n",
    "    col_list = X_train.columns\n",
    "    the_scaler = StandardScaler(with_std  = True ,with_mean = True, copy = True)\n",
    "    \n",
    "    for col in col_list:\n",
    "        X_train_scaled[col] = the_scaler.fit_transform(X_train[[col]]) \n",
    "        X_test_scaled[col] = the_scaler.transform(X_test[[col]]) \n",
    "\n",
    "    return X_train_scaled, X_test_scaled\n"
   ]
  },
  {
   "cell_type": "markdown",
   "id": "64d19b1e",
   "metadata": {},
   "source": [
    "# Removing the most correlated data\n",
    "#### because it is not giving us new information"
   ]
  },
  {
   "cell_type": "code",
   "execution_count": 7,
   "id": "491544a3",
   "metadata": {},
   "outputs": [],
   "source": [
    "def remove_correlated(X_train, X_test):\n",
    "    corralation_matrix = X_train.corr().abs()\n",
    "    upper = corralation_matrix.where(np.triu(np.ones(corralation_matrix.shape), k=1).astype(np.bool))\n",
    "    to_drop = [column for column in upper.columns if any(upper[column] > 0.94)]\n",
    "    X_train = X_train.drop(to_drop, axis=1)\n",
    "    X_test = X_test.drop(to_drop, axis=1)\n",
    "    \n",
    "    return X_train, X_test"
   ]
  },
  {
   "cell_type": "markdown",
   "id": "3b1a52c9",
   "metadata": {},
   "source": [
    "# Machine Learning's process\n",
    "\n",
    "## we wanted to predict on continuous variable -> we choose regression models  "
   ]
  },
  {
   "cell_type": "markdown",
   "id": "aa0f8472",
   "metadata": {},
   "source": [
    "#### Define the models that we worked on\n",
    "1. Linear Regression\n",
    "2. Ridge Regression\n",
    "3. Lasso Regression\n",
    "4. KNN Regression\n",
    "5. Random Forest Regressor"
   ]
  },
  {
   "cell_type": "code",
   "execution_count": 8,
   "id": "c68474a8",
   "metadata": {},
   "outputs": [],
   "source": [
    "reg_models={\n",
    "    'LinReg'            : LinearRegression(),\n",
    "    'RidgeReg'          : Ridge(alpha=0.001),\n",
    "    'LassoReg'          : Lasso(alpha=0.001),\n",
    "    'KNNReg'            : KNeighborsRegressor(n_neighbors=9),\n",
    "    'random'            :RandomForestRegressor(max_depth=2, random_state=42)\n",
    "}"
   ]
  },
  {
   "cell_type": "markdown",
   "id": "43105750",
   "metadata": {},
   "source": [
    "## 1. We will try to predict how much Rating Dataset will get."
   ]
  },
  {
   "cell_type": "code",
   "execution_count": 9,
   "id": "fb2580c8",
   "metadata": {},
   "outputs": [],
   "source": [
    "RatingDF = df.copy()"
   ]
  },
  {
   "cell_type": "markdown",
   "id": "71c9f809",
   "metadata": {},
   "source": [
    "#### Define the columns that we worked on"
   ]
  },
  {
   "cell_type": "code",
   "execution_count": 10,
   "id": "6d62b52e",
   "metadata": {},
   "outputs": [],
   "source": [
    "X = RatingDF.drop('Rating',1)\n",
    "y = RatingDF['Rating']"
   ]
  },
  {
   "cell_type": "markdown",
   "id": "304686cd",
   "metadata": {},
   "source": [
    "# prepering the dataset\n",
    "* splitting the data into train and test\n",
    "* removing the outliers\n",
    "* scalling the data\n",
    "* removing the corralated columns"
   ]
  },
  {
   "cell_type": "code",
   "execution_count": 11,
   "id": "43299448",
   "metadata": {},
   "outputs": [],
   "source": [
    "X_train, X_test, y_train, y_test = train_test_split(X, y, test_size=0.3, random_state=42)\n",
    "X_train, X_test, y_train, y_test = remove_outliers(X_train, X_test, y_train, y_test)\n",
    "X_train, X_test = scale_data(X_train, X_test)\n",
    "X_train,X_test= remove_correlated(X_train, X_test)"
   ]
  },
  {
   "cell_type": "markdown",
   "id": "72e979c1",
   "metadata": {},
   "source": [
    "# Creating a DataFrame to compare all the models\n",
    "* r2 -> R^2 (coefficient of determination) regression score function.\n",
    "* RMSE -> root mean square error\n",
    "* Cross Validation -> using the cross validation to check if there is a overfitting"
   ]
  },
  {
   "cell_type": "code",
   "execution_count": 12,
   "id": "e2573ac8",
   "metadata": {},
   "outputs": [
    {
     "data": {
      "text/html": [
       "<style type=\"text/css\">\n",
       "#T_3fdfe_row2_col0, #T_3fdfe_row2_col1, #T_3fdfe_row2_col2 {\n",
       "  background-color: lightgreen;\n",
       "}\n",
       "</style>\n",
       "<table id=\"T_3fdfe_\">\n",
       "  <thead>\n",
       "    <tr>\n",
       "      <th class=\"blank level0\" >&nbsp;</th>\n",
       "      <th class=\"col_heading level0 col0\" >r2</th>\n",
       "      <th class=\"col_heading level0 col1\" >RMSE</th>\n",
       "      <th class=\"col_heading level0 col2\" >Cross Validation</th>\n",
       "    </tr>\n",
       "  </thead>\n",
       "  <tbody>\n",
       "    <tr>\n",
       "      <th id=\"T_3fdfe_level0_row0\" class=\"row_heading level0 row0\" >LinReg</th>\n",
       "      <td id=\"T_3fdfe_row0_col0\" class=\"data row0 col0\" >0.822</td>\n",
       "      <td id=\"T_3fdfe_row0_col1\" class=\"data row0 col1\" >32.295</td>\n",
       "      <td id=\"T_3fdfe_row0_col2\" class=\"data row0 col2\" >0.819</td>\n",
       "    </tr>\n",
       "    <tr>\n",
       "      <th id=\"T_3fdfe_level0_row1\" class=\"row_heading level0 row1\" >RidgeReg</th>\n",
       "      <td id=\"T_3fdfe_row1_col0\" class=\"data row1 col0\" >0.822</td>\n",
       "      <td id=\"T_3fdfe_row1_col1\" class=\"data row1 col1\" >32.295</td>\n",
       "      <td id=\"T_3fdfe_row1_col2\" class=\"data row1 col2\" >0.819</td>\n",
       "    </tr>\n",
       "    <tr>\n",
       "      <th id=\"T_3fdfe_level0_row2\" class=\"row_heading level0 row2\" >LassoReg</th>\n",
       "      <td id=\"T_3fdfe_row2_col0\" class=\"data row2 col0\" >0.822</td>\n",
       "      <td id=\"T_3fdfe_row2_col1\" class=\"data row2 col1\" >32.295</td>\n",
       "      <td id=\"T_3fdfe_row2_col2\" class=\"data row2 col2\" >0.819</td>\n",
       "    </tr>\n",
       "    <tr>\n",
       "      <th id=\"T_3fdfe_level0_row3\" class=\"row_heading level0 row3\" >KNNReg</th>\n",
       "      <td id=\"T_3fdfe_row3_col0\" class=\"data row3 col0\" >0.651</td>\n",
       "      <td id=\"T_3fdfe_row3_col1\" class=\"data row3 col1\" >45.274</td>\n",
       "      <td id=\"T_3fdfe_row3_col2\" class=\"data row3 col2\" >0.669</td>\n",
       "    </tr>\n",
       "    <tr>\n",
       "      <th id=\"T_3fdfe_level0_row4\" class=\"row_heading level0 row4\" >random</th>\n",
       "      <td id=\"T_3fdfe_row4_col0\" class=\"data row4 col0\" >0.805</td>\n",
       "      <td id=\"T_3fdfe_row4_col1\" class=\"data row4 col1\" >33.841</td>\n",
       "      <td id=\"T_3fdfe_row4_col2\" class=\"data row4 col2\" >0.757</td>\n",
       "    </tr>\n",
       "  </tbody>\n",
       "</table>\n"
      ],
      "text/plain": [
       "<pandas.io.formats.style.Styler at 0x13cbcab43a0>"
      ]
     },
     "execution_count": 12,
     "metadata": {},
     "output_type": "execute_result"
    }
   ],
   "source": [
    "df_metrics=pd.DataFrame([])\n",
    "for model_name in reg_models:\n",
    "    met={}\n",
    "    \n",
    "    clf_model = reg_models[model_name].fit(X_train, y_train)\n",
    "    y_pred = clf_model.predict(X_test)\n",
    "    met['r2']= r2_score(y_test, y_pred)\n",
    "    met['RMSE']= np.sqrt(mean_squared_error(y_test,y_pred))\n",
    "    met['Cross Validation']= cross_val_score(reg_models[model_name], X_train, y_train,scoring='r2', cv=10).mean()\n",
    "    df_metrics=pd.concat([df_metrics,pd.DataFrame(met,index=[model_name]).T],axis=1)\n",
    "\n",
    "df_metrics.T.style.highlight_max(subset=['r2','Cross Validation'],color='lightgreen').highlight_min(subset='RMSE',color='lightgreen').set_precision(3)"
   ]
  },
  {
   "cell_type": "markdown",
   "id": "83231fe0",
   "metadata": {},
   "source": [
    "# The Best Model -> Lasso Regression (R2 -> 82.2%)"
   ]
  },
  {
   "cell_type": "code",
   "execution_count": 13,
   "id": "0efb2899",
   "metadata": {},
   "outputs": [],
   "source": [
    "clf_model = reg_models['LassoReg'].fit(X_train, y_train)\n",
    "y_pred = clf_model.predict(X_test)"
   ]
  },
  {
   "cell_type": "markdown",
   "id": "c0013ce0",
   "metadata": {},
   "source": [
    "# Plot of the Best Model"
   ]
  },
  {
   "cell_type": "code",
   "execution_count": 14,
   "id": "a7b09603",
   "metadata": {},
   "outputs": [
    {
     "data": {
      "text/plain": [
       "<seaborn.axisgrid.FacetGrid at 0x13cbc9f2490>"
      ]
     },
     "execution_count": 14,
     "metadata": {},
     "output_type": "execute_result"
    },
    {
     "data": {
      "image/png": "[encoded data removed]",
      "text/plain": [
       "<Figure size 360x360 with 1 Axes>"
      ]
     },
     "metadata": {},
     "output_type": "display_data"
    }
   ],
   "source": [
    "dataset = pd.DataFrame({\"predicted\":y_pred,\"actual\":y_test})\n",
    "sns.set_style('whitegrid')\n",
    "sns.lmplot(x ='predicted', y ='actual', data = dataset)"
   ]
  },
  {
   "cell_type": "markdown",
   "id": "8062b39c",
   "metadata": {},
   "source": [
    "# The conclution:\n",
    "* we got accuracy of 82.2% with r2 on our best model -> \"Lasso Regression model\".\n",
    "* to sum up, we found a successful regression model that will predict the rating of new dataset."
   ]
  },
  {
   "cell_type": "markdown",
   "id": "48c91a31",
   "metadata": {},
   "source": [
    "## 2. We will try to predict how many Views Dataset will get."
   ]
  },
  {
   "cell_type": "code",
   "execution_count": 15,
   "id": "194fe42d",
   "metadata": {},
   "outputs": [],
   "source": [
    "ViewsDF = df.copy()"
   ]
  },
  {
   "cell_type": "markdown",
   "id": "7410e899",
   "metadata": {},
   "source": [
    "#### Define the columns that we worked on"
   ]
  },
  {
   "cell_type": "code",
   "execution_count": 16,
   "id": "48e58f2d",
   "metadata": {},
   "outputs": [],
   "source": [
    "X = ViewsDF.drop('Views',1)\n",
    "y = ViewsDF['Views']"
   ]
  },
  {
   "cell_type": "markdown",
   "id": "c1b5cdfc",
   "metadata": {},
   "source": [
    "# prepering the dataset\n",
    "* splitting the data into train and test\n",
    "* scalling the data\n",
    "* removing the outliers\n",
    "* removing the corralated columns"
   ]
  },
  {
   "cell_type": "code",
   "execution_count": 17,
   "id": "d5eeee56",
   "metadata": {},
   "outputs": [],
   "source": [
    "X_train, X_test, y_train, y_test = train_test_split(X, y, test_size=0.3, random_state=0)\n",
    "X_train, X_test, y_train, y_test = remove_outliers(X_train, X_test, y_train, y_test)\n",
    "X_train, X_test = scale_data(X_train, X_test)\n",
    "X_train,X_test= remove_correlated(X_train, X_test)"
   ]
  },
  {
   "cell_type": "code",
   "execution_count": 18,
   "id": "28538f1a",
   "metadata": {},
   "outputs": [
    {
     "data": {
      "text/html": [
       "<style type=\"text/css\">\n",
       "#T_c5099_row1_col2, #T_c5099_row2_col0, #T_c5099_row2_col1 {\n",
       "  background-color: lightgreen;\n",
       "}\n",
       "</style>\n",
       "<table id=\"T_c5099_\">\n",
       "  <thead>\n",
       "    <tr>\n",
       "      <th class=\"blank level0\" >&nbsp;</th>\n",
       "      <th class=\"col_heading level0 col0\" >r2</th>\n",
       "      <th class=\"col_heading level0 col1\" >RMSE</th>\n",
       "      <th class=\"col_heading level0 col2\" >Cross Validation</th>\n",
       "    </tr>\n",
       "  </thead>\n",
       "  <tbody>\n",
       "    <tr>\n",
       "      <th id=\"T_c5099_level0_row0\" class=\"row_heading level0 row0\" >LinReg</th>\n",
       "      <td id=\"T_c5099_row0_col0\" class=\"data row0 col0\" >0.807</td>\n",
       "      <td id=\"T_c5099_row0_col1\" class=\"data row0 col1\" >13374.400</td>\n",
       "      <td id=\"T_c5099_row0_col2\" class=\"data row0 col2\" >0.817</td>\n",
       "    </tr>\n",
       "    <tr>\n",
       "      <th id=\"T_c5099_level0_row1\" class=\"row_heading level0 row1\" >RidgeReg</th>\n",
       "      <td id=\"T_c5099_row1_col0\" class=\"data row1 col0\" >0.807</td>\n",
       "      <td id=\"T_c5099_row1_col1\" class=\"data row1 col1\" >13374.401</td>\n",
       "      <td id=\"T_c5099_row1_col2\" class=\"data row1 col2\" >0.817</td>\n",
       "    </tr>\n",
       "    <tr>\n",
       "      <th id=\"T_c5099_level0_row2\" class=\"row_heading level0 row2\" >LassoReg</th>\n",
       "      <td id=\"T_c5099_row2_col0\" class=\"data row2 col0\" >0.807</td>\n",
       "      <td id=\"T_c5099_row2_col1\" class=\"data row2 col1\" >13374.399</td>\n",
       "      <td id=\"T_c5099_row2_col2\" class=\"data row2 col2\" >0.817</td>\n",
       "    </tr>\n",
       "    <tr>\n",
       "      <th id=\"T_c5099_level0_row3\" class=\"row_heading level0 row3\" >KNNReg</th>\n",
       "      <td id=\"T_c5099_row3_col0\" class=\"data row3 col0\" >0.668</td>\n",
       "      <td id=\"T_c5099_row3_col1\" class=\"data row3 col1\" >17526.237</td>\n",
       "      <td id=\"T_c5099_row3_col2\" class=\"data row3 col2\" >0.687</td>\n",
       "    </tr>\n",
       "    <tr>\n",
       "      <th id=\"T_c5099_level0_row4\" class=\"row_heading level0 row4\" >random</th>\n",
       "      <td id=\"T_c5099_row4_col0\" class=\"data row4 col0\" >0.752</td>\n",
       "      <td id=\"T_c5099_row4_col1\" class=\"data row4 col1\" >15146.281</td>\n",
       "      <td id=\"T_c5099_row4_col2\" class=\"data row4 col2\" >0.761</td>\n",
       "    </tr>\n",
       "  </tbody>\n",
       "</table>\n"
      ],
      "text/plain": [
       "<pandas.io.formats.style.Styler at 0x13cb70c1430>"
      ]
     },
     "execution_count": 18,
     "metadata": {},
     "output_type": "execute_result"
    }
   ],
   "source": [
    "df_metrics=pd.DataFrame([])\n",
    "for model_name in reg_models:\n",
    "    met={}\n",
    "    \n",
    "    clf_model = reg_models[model_name].fit(X_train, y_train)\n",
    "    y_pred = clf_model.predict(X_test)\n",
    "    met['r2']= r2_score(y_test, y_pred)\n",
    "    met['RMSE']= np.sqrt(mean_squared_error(y_test,y_pred))\n",
    "    met['Cross Validation']= cross_val_score(reg_models[model_name], X_train, y_train,scoring='r2', cv=10).mean()\n",
    "    df_metrics=pd.concat([df_metrics,pd.DataFrame(met,index=[model_name]).T],axis=1)\n",
    "\n",
    "df_metrics.T.style.highlight_max(subset=['r2','Cross Validation'],color='lightgreen').highlight_min(subset='RMSE',color='lightgreen').set_precision(3)"
   ]
  },
  {
   "cell_type": "markdown",
   "id": "7aa814c7",
   "metadata": {},
   "source": [
    "# The Best Model -> Lasso Regression (80.7%)"
   ]
  },
  {
   "cell_type": "code",
   "execution_count": 19,
   "id": "c8b4fdb8",
   "metadata": {},
   "outputs": [],
   "source": [
    "clf_model = reg_models['LassoReg'].fit(X_train, y_train)\n",
    "y_pred = clf_model.predict(X_test)"
   ]
  },
  {
   "cell_type": "markdown",
   "id": "36f9e8a4",
   "metadata": {},
   "source": [
    "# Plot of the Best Model "
   ]
  },
  {
   "cell_type": "code",
   "execution_count": 20,
   "id": "f4dd48b2",
   "metadata": {},
   "outputs": [
    {
     "data": {
      "text/plain": [
       "<seaborn.axisgrid.FacetGrid at 0x13cbc9f20a0>"
      ]
     },
     "execution_count": 20,
     "metadata": {},
     "output_type": "execute_result"
    },
    {
     "data": {
      "image/png": "[encoded data removed]",
      "text/plain": [
       "<Figure size 360x360 with 1 Axes>"
      ]
     },
     "metadata": {},
     "output_type": "display_data"
    }
   ],
   "source": [
    "\n",
    "dataset = pd.DataFrame({\"predicted\":y_pred,\"actual\":y_test})\n",
    "sns.set_style('whitegrid')\n",
    "sns.lmplot(x ='predicted', y ='actual', data = dataset)"
   ]
  },
  {
   "cell_type": "markdown",
   "id": "3b272bf1",
   "metadata": {},
   "source": [
    "# The conclution:\n",
    "* we got accuracy of 80.7% with r2 on our best model -> \"Lasso Regression model\".\n",
    "* to sum up, we found a successful regression model that will predict for a new dataset the number of views."
   ]
  },
  {
   "cell_type": "code",
   "execution_count": null,
   "id": "c5ec1545",
   "metadata": {},
   "outputs": [],
   "source": []
  }
 ],
 "metadata": {
  "kernelspec": {
   "display_name": "Python 3 (ipykernel)",
   "language": "python",
   "name": "python3"
  },
  "language_info": {
   "codemirror_mode": {
    "name": "ipython",
    "version": 3
   },
   "file_extension": ".py",
   "mimetype": "text/x-python",
   "name": "python",
   "nbconvert_exporter": "python",
   "pygments_lexer": "ipython3",
   "version": "3.9.7"
  }
 },
 "nbformat": 4,
 "nbformat_minor": 5
}
